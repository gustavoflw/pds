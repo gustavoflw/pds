{
 "cells": [
  {
   "cell_type": "code",
   "execution_count": 1,
   "metadata": {},
   "outputs": [],
   "source": [
    "import numpy as np\n",
    "import matplotlib.pyplot as plt\n",
    "import pds"
   ]
  },
  {
   "cell_type": "code",
   "execution_count": 61,
   "metadata": {},
   "outputs": [
    {
     "name": "stdout",
     "output_type": "stream",
     "text": [
      "[25 16  9  4  1  0  1  4  9 16]\n",
      "[-9 -7 -5 -3 -1  1  3  5  7]\n"
     ]
    },
    {
     "data": {
      "image/png": "[encoded data removed]",
      "text/plain": [
       "<Figure size 432x288 with 1 Axes>"
      ]
     },
     "metadata": {
      "needs_background": "light"
     },
     "output_type": "display_data"
    }
   ],
   "source": [
    "# Atividade 1 - \n",
    "n = np.arange(-5, 5)\n",
    "x = n**2\n",
    "y = x[1:] - x[:-1]\n",
    "\n",
    "# plt.stem(n, x, 'b')\n",
    "plt.stem(n[:-1], y, 'r')\n",
    "plt.stem(n, 2*n, 'g')\n",
    "\n",
    "print(x)\n",
    "print(y)\n",
    "plt.show()"
   ]
  },
  {
   "cell_type": "code",
   "execution_count": 7,
   "metadata": {},
   "outputs": [
    {
     "data": {
      "image/png": "[encoded data removed]",
      "text/plain": [
       "<Figure size 432x288 with 1 Axes>"
      ]
     },
     "metadata": {
      "needs_background": "light"
     },
     "output_type": "display_data"
    }
   ],
   "source": [
    "# Atividade 2 - eqdif\n",
    "n = np.arange(-15, 15)\n",
    "x = n**2\n",
    "\n",
    "h = np.array([1, -1])\n",
    "b = h\n",
    "a = np.array([1])\n",
    "\n",
    "alpha = .75\n",
    "b = np.array([1])\n",
    "a = np.array([1, -alpha])\n",
    "\n",
    "y = pds.eqdif(b, a, x)\n",
    "\n",
    "plt.stem(n, y)\n",
    "plt.show()"
   ]
  },
  {
   "cell_type": "code",
   "execution_count": null,
   "metadata": {},
   "outputs": [],
   "source": []
  }
 ],
 "metadata": {
  "kernelspec": {
   "display_name": "Python 3",
   "language": "python",
   "name": "python3"
  },
  "language_info": {
   "codemirror_mode": {
    "name": "ipython",
    "version": 3
   },
   "file_extension": ".py",
   "mimetype": "text/x-python",
   "name": "python",
   "nbconvert_exporter": "python",
   "pygments_lexer": "ipython3",
   "version": "3.8.10 (default, Nov 14 2022, 12:59:47) \n[GCC 9.4.0]"
  },
  "orig_nbformat": 4,
  "vscode": {
   "interpreter": {
    "hash": "e7370f93d1d0cde622a1f8e1c04877d8463912d04d973331ad4851f04de6915a"
   }
  }
 },
 "nbformat": 4,
 "nbformat_minor": 2
}
